{
 "cells": [
  {
   "cell_type": "code",
   "execution_count": 1,
   "id": "d57eefc0",
   "metadata": {},
   "outputs": [],
   "source": [
    "import pandas as pd\n",
    "from pandas_profiling import ProfileReport"
   ]
  },
  {
   "cell_type": "code",
   "execution_count": 2,
   "id": "8e4db5b8",
   "metadata": {},
   "outputs": [],
   "source": [
    "df = pd.read_csv('BDM Products Data.csv')"
   ]
  },
  {
   "cell_type": "code",
   "execution_count": 3,
   "id": "1047a743",
   "metadata": {},
   "outputs": [],
   "source": [
    "df = df.drop(index=13)"
   ]
  },
  {
   "cell_type": "code",
   "execution_count": 4,
   "id": "ed1cc74c",
   "metadata": {},
   "outputs": [],
   "source": [
    "df.to_csv('Products Data.csv', index=False, header=False)"
   ]
  },
  {
   "cell_type": "code",
   "execution_count": 5,
   "id": "3f9402e3",
   "metadata": {},
   "outputs": [],
   "source": [
    "data = pd.read_csv('Products Data.csv')"
   ]
  },
  {
   "cell_type": "code",
   "execution_count": 6,
   "id": "4ac05d46",
   "metadata": {},
   "outputs": [],
   "source": [
    "data.columns = ['Month', 'Ashirbad Wheat Flour Selling Price', 'Fair and Lovely Face Cream Selling Price', \n",
    "               'Fortune Cooking Oil Selling Price', 'Maggi Sauce Selling Price', 'Potatoes Selling Price', \n",
    "               'Sriram Papad Selling Price', 'Ashirbad Wheat Flour Sales Volume', 'Fair and Lovely Face Cream Sales Volume', \n",
    "               'Fortune Cooking Oil Sales Volume', 'Maggi Sauce Sales Volume', 'Potatoes Sales Volume', \n",
    "               'Sriram Papad Sales Volume', 'Ashirbad Wheat Flour Inventory', 'Fair and Lovely Face Cream Inventory', \n",
    "               'Fortune Cooking Oil Inventory', 'Maggi Sauce Inventory', 'Potatoes Inventory', 'Sriram Papad Inventory', \n",
    "               'Ashirbad Wheat Flour Acquisition Cost', 'Fair and Lovely Face Cream Acquisition Cost', \n",
    "               'Fortune Cooking Oil Acquisition Cost', 'Maggi Sauce Acquisition Cost', 'Potatoes Acquisition Cost', \n",
    "               'Sriram Papad Acquisition Cost', 'Ashirbad Wheat Flour Revenue', 'Fair and Lovely Face Cream Revenue', \n",
    "               'Fortune Cooking Oil Revenue', 'Maggi Sauce Revenue', 'Potatoes Revenue', 'Sriram Papad Revenue', \n",
    "               'Ashirbad Wheat Flour Marginal Revenue', 'Fair and Lovely Face Cream Marginal Revenue', \n",
    "               'Fortune Cooking Oil Marginal Revenue', 'Maggi Sauce Marginal Revenue', 'Potatoes Marginal Revenue', \n",
    "               'Sriram Papad Marginal Revenue', 'Ashirbad Wheat Flour Profit', 'Fair and Lovely Face Cream Profit', \n",
    "               'Fortune Cooking Oil Profit', 'Maggi Sauce Profit', 'Potatoes Profit', 'Sriram Papad Profit']"
   ]
  },
  {
   "cell_type": "code",
   "execution_count": 7,
   "id": "bd99eeeb",
   "metadata": {},
   "outputs": [],
   "source": [
    "report = ProfileReport(data)"
   ]
  },
  {
   "cell_type": "code",
   "execution_count": 8,
   "id": "6338bfe3",
   "metadata": {},
   "outputs": [
    {
     "data": {
      "application/vnd.jupyter.widget-view+json": {
       "model_id": "603144929e36467e9ec5c2b610d7db48",
       "version_major": 2,
       "version_minor": 0
      },
      "text/plain": [
       "Summarize dataset:   0%|          | 0/5 [00:00<?, ?it/s]"
      ]
     },
     "metadata": {},
     "output_type": "display_data"
    },
    {
     "data": {
      "application/vnd.jupyter.widget-view+json": {
       "model_id": "007d717a3b4e49eaa8de9d9236a7cbe7",
       "version_major": 2,
       "version_minor": 0
      },
      "text/plain": [
       "Generate report structure:   0%|          | 0/1 [00:00<?, ?it/s]"
      ]
     },
     "metadata": {},
     "output_type": "display_data"
    },
    {
     "data": {
      "application/vnd.jupyter.widget-view+json": {
       "model_id": "11f6186882264aa5ab1cecf4c14639aa",
       "version_major": 2,
       "version_minor": 0
      },
      "text/plain": [
       "Render widgets:   0%|          | 0/1 [00:00<?, ?it/s]"
      ]
     },
     "metadata": {},
     "output_type": "display_data"
    },
    {
     "data": {
      "application/vnd.jupyter.widget-view+json": {
       "model_id": "026af3907e5e4b1abae8042c35b67fcf",
       "version_major": 2,
       "version_minor": 0
      },
      "text/plain": [
       "VBox(children=(Tab(children=(Tab(children=(GridBox(children=(VBox(children=(GridspecLayout(children=(HTML(valu…"
      ]
     },
     "metadata": {},
     "output_type": "display_data"
    }
   ],
   "source": [
    "report.to_widgets()"
   ]
  }
 ],
 "metadata": {
  "kernelspec": {
   "display_name": "Python 3 (ipykernel)",
   "language": "python",
   "name": "python3"
  },
  "language_info": {
   "codemirror_mode": {
    "name": "ipython",
    "version": 3
   },
   "file_extension": ".py",
   "mimetype": "text/x-python",
   "name": "python",
   "nbconvert_exporter": "python",
   "pygments_lexer": "ipython3",
   "version": "3.10.6"
  }
 },
 "nbformat": 4,
 "nbformat_minor": 5
}
