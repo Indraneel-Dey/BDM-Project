{
 "cells": [
  {
   "cell_type": "code",
   "execution_count": 1,
   "id": "4f8c2782",
   "metadata": {},
   "outputs": [],
   "source": [
    "import pandas as pd\n",
    "from pandas_profiling import ProfileReport"
   ]
  },
  {
   "cell_type": "code",
   "execution_count": 2,
   "id": "7d64bde6",
   "metadata": {},
   "outputs": [],
   "source": [
    "df = pd.read_csv('BDM Cost Pivot.csv')"
   ]
  },
  {
   "cell_type": "code",
   "execution_count": 3,
   "id": "9734ed82",
   "metadata": {},
   "outputs": [],
   "source": [
    "df.to_csv('Cost Pivot.csv', index=False, header=False)"
   ]
  },
  {
   "cell_type": "code",
   "execution_count": 4,
   "id": "208f9e09",
   "metadata": {},
   "outputs": [],
   "source": [
    "data = pd.read_csv('Cost Pivot.csv')"
   ]
  },
  {
   "cell_type": "code",
   "execution_count": 5,
   "id": "daa17749",
   "metadata": {},
   "outputs": [],
   "source": [
    "data.columns = ['Month', 'Ashirbad Wheat Flour Total Cost', 'Fair and Lovely Face Cream Total Cost', \n",
    "                'Fortune Cooking Oil Total Cost', 'Maggi Sauce Total Cost', 'Potatoes Total Cost', 'Sriram Papad Total Cost', \n",
    "               'Ashirbad Wheat Flour Marginal Cost', 'Fair and Lovely Face Cream Marginal Cost', 'Fortune Cooking Oil Marginal Cost', \n",
    "               'Maggi Sauce Marginal Cost', 'Potatoes Marginal Cost', 'Sriram Papad Marginal Cost']"
   ]
  },
  {
   "cell_type": "code",
   "execution_count": 6,
   "id": "bb6c7712",
   "metadata": {},
   "outputs": [],
   "source": [
    "report = ProfileReport(data)"
   ]
  },
  {
   "cell_type": "code",
   "execution_count": 7,
   "id": "d879c86a",
   "metadata": {},
   "outputs": [
    {
     "data": {
      "application/vnd.jupyter.widget-view+json": {
       "model_id": "cf78f47f8c614df3a37f86a00ee0c2fb",
       "version_major": 2,
       "version_minor": 0
      },
      "text/plain": [
       "Summarize dataset:   0%|          | 0/5 [00:00<?, ?it/s]"
      ]
     },
     "metadata": {},
     "output_type": "display_data"
    },
    {
     "data": {
      "application/vnd.jupyter.widget-view+json": {
       "model_id": "c4f78de6fc994854aa793d220be48d41",
       "version_major": 2,
       "version_minor": 0
      },
      "text/plain": [
       "Generate report structure:   0%|          | 0/1 [00:00<?, ?it/s]"
      ]
     },
     "metadata": {},
     "output_type": "display_data"
    },
    {
     "data": {
      "application/vnd.jupyter.widget-view+json": {
       "model_id": "",
       "version_major": 2,
       "version_minor": 0
      },
      "text/plain": [
       "Render widgets:   0%|          | 0/1 [00:00<?, ?it/s]"
      ]
     },
     "metadata": {},
     "output_type": "display_data"
    },
    {
     "data": {
      "application/vnd.jupyter.widget-view+json": {
       "model_id": "5abad34242a1456c945d9196f9bf5fe1",
       "version_major": 2,
       "version_minor": 0
      },
      "text/plain": [
       "VBox(children=(Tab(children=(Tab(children=(GridBox(children=(VBox(children=(GridspecLayout(children=(HTML(valu…"
      ]
     },
     "metadata": {},
     "output_type": "display_data"
    }
   ],
   "source": [
    "report.to_widgets()"
   ]
  }
 ],
 "metadata": {
  "kernelspec": {
   "display_name": "Python 3 (ipykernel)",
   "language": "python",
   "name": "python3"
  },
  "language_info": {
   "codemirror_mode": {
    "name": "ipython",
    "version": 3
   },
   "file_extension": ".py",
   "mimetype": "text/x-python",
   "name": "python",
   "nbconvert_exporter": "python",
   "pygments_lexer": "ipython3",
   "version": "3.10.6"
  }
 },
 "nbformat": 4,
 "nbformat_minor": 5
}
